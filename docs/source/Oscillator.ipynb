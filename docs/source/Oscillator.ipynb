{
 "cells": [
  {
   "cell_type": "code",
   "execution_count": null,
   "id": "0923b7ab",
   "metadata": {
    "pycharm": {
     "name": "#%%\n"
    }
   },
   "outputs": [],
   "source": [
    "# flake8: noqa\n",
    "# ---\n",
    "# jupyter:\n",
    "#   jupytext:\n",
    "#     formats: ipynb,py:percent\n",
    "#     text_representation:\n",
    "#       extension: .py\n",
    "#       format_name: percent\n",
    "#       format_version: '1.3'\n",
    "#       jupytext_version: 1.13.8\n",
    "#   kernelspec:\n",
    "#     display_name: Python 3 (ipykernel)\n",
    "#     language: python\n",
    "#     name: python3\n",
    "# ---"
   ]
  },
  {
   "cell_type": "markdown",
   "id": "0eb8d65b",
   "metadata": {
    "pycharm": {
     "name": "#%% md\n"
    }
   },
   "source": [
    "# Example: Oscillator\n",
    "\n",
    "Estimating parameters of an anharmonic oscillator.\n",
    "The anharnomic oscillator can be modelled by a non-linear partial differential"
   ]
  },
  {
   "cell_type": "code",
   "execution_count": null,
   "id": "4cd1a65b",
   "metadata": {
    "pycharm": {
     "name": "#%%\n"
    }
   },
   "outputs": [],
   "source": [
    "# Simple plotting of forward-model with a single response and parameters\n",
    "from matplotlib import pyplot as plt\n",
    "\n",
    "\n",
    "def plot_result(\n",
    "    A, response_x_axis, trans_func=lambda x: x, priors=[], show_params=False\n",
    "):\n",
    "    responses = forward_model(A, priors, response_x_axis)\n",
    "    plt.rcParams[\"figure.figsize\"] = [15, 4]\n",
    "    figures = 1 + len(A) if show_params else 1\n",
    "    fig, axs = plt.subplots(1, figures)\n",
    "\n",
    "    if show_params:\n",
    "        axs[0].plot(response_x_axis, responses)\n",
    "        for i, param in enumerate(A):\n",
    "            A_trans = np.array([trans_func(v, *priors[i]) for v in param])\n",
    "            axs[i + 1].hist(A_trans, bins=10)\n",
    "    else:\n",
    "        axs.plot(response_x_axis, responses)\n",
    "    plt.show()"
   ]
  },
  {
   "cell_type": "markdown",
   "id": "f4473b93",
   "metadata": {},
   "source": [
    "## Setup"
   ]
  },
  {
   "cell_type": "code",
   "execution_count": null,
   "id": "946efdfb",
   "metadata": {
    "lines_to_next_cell": 2,
    "pycharm": {
     "name": "#%%\n"
    }
   },
   "outputs": [],
   "source": [
    "# Oscilator example\n",
    "import numpy as np\n",
    "from math import sqrt\n",
    "from scipy.special import erf\n",
    "\n",
    "\n",
    "def _generate_observations(K):\n",
    "\n",
    "    x = _evaluate(omega=3.5e-2, lmbda=3e-4, K=K)\n",
    "    rng = np.random.default_rng(12345)\n",
    "    nobs = 50\n",
    "    obs_points = np.linspace(0, K, nobs, endpoint=False, dtype=int)\n",
    "\n",
    "    obs_with_std = np.zeros(shape=(len(obs_points), 2))\n",
    "\n",
    "    for obs_idx, obs_point in enumerate(obs_points):\n",
    "        # Set observation error's standard deviation to some\n",
    "        # percentage of the amplitude of x with a minimum of, e.g., 1.\n",
    "        obs_std = max(1, 0.02 * abs(x[obs_point]))\n",
    "        obs_with_std[obs_idx, 0] = x[obs_point] + rng.normal(loc=0.0, scale=obs_std)\n",
    "        obs_with_std[obs_idx, 1] = obs_std\n",
    "    return obs_with_std, obs_points\n",
    "\n",
    "\n",
    "def _evaluate(omega, lmbda, K):\n",
    "    x = np.zeros(K)\n",
    "    x[0] = 0\n",
    "    x[1] = 1\n",
    "\n",
    "    # Looping from 2 because we have initial conditions at k=0 and k=1.\n",
    "    for k in range(2, K - 1):\n",
    "        M = np.array([[2 + omega**2 - lmbda**2 * x[k] ** 2, -1], [1, 0]])\n",
    "        u = np.array([x[k], x[k - 1]])\n",
    "        u = M @ u\n",
    "        x[k + 1] = u[0]\n",
    "        x[k] = u[1]\n",
    "\n",
    "    return x\n",
    "\n",
    "\n",
    "def uniform(x, min_x, max_x):\n",
    "    y = 0.5 * (1 + erf(x / sqrt(2.0)))\n",
    "    return y * (max_x - min_x) + min_x\n",
    "\n",
    "\n",
    "def forward_model(A, prior, response_x_axis):\n",
    "    responses = []\n",
    "    for [omega, lmbda] in A.T:\n",
    "        r = _evaluate(\n",
    "            omega=uniform(omega, *prior[0]),\n",
    "            lmbda=uniform(lmbda, *prior[1]),\n",
    "            K=len(response_x_axis),\n",
    "        )\n",
    "        responses.append(r)\n",
    "    return np.array(responses).T\n",
    "\n",
    "\n",
    "response_x_axis = range(2500)\n",
    "realizations = 100\n",
    "\n",
    "observations, observation_x_axis = _generate_observations(len(response_x_axis))\n",
    "observation_values = observations[:, 0]\n",
    "observation_errors = observations[:, 1]\n",
    "\n",
    "A = np.asfortranarray(np.random.normal(0, 1, size=(2, realizations)))\n",
    "\n",
    "priors = [(2.5e-2, 4.5e-2), (2.0e-4, 4.0e-4)]\n",
    "plot_result(A, response_x_axis, uniform, priors, True)"
   ]
  },
  {
   "cell_type": "markdown",
   "id": "787c7516",
   "metadata": {},
   "source": [
    "## Update step"
   ]
  },
  {
   "cell_type": "code",
   "execution_count": null,
   "id": "e713257d",
   "metadata": {},
   "outputs": [],
   "source": [
    "import numpy as np\n",
    "import iterative_ensemble_smoother as ies\n",
    "\n",
    "plot_result(A, response_x_axis, uniform, priors, True)\n",
    "\n",
    "responses_before = forward_model(A, priors, response_x_axis)\n",
    "S = responses_before[observation_x_axis]\n",
    "\n",
    "new_A = ies.ensemble_smoother_update_step(S, A, observation_errors, observation_values)\n",
    "\n",
    "plot_result(new_A, response_x_axis, uniform, priors, True)"
   ]
  },
  {
   "cell_type": "markdown",
   "id": "345af490",
   "metadata": {},
   "source": [
    "## Iterative smoother"
   ]
  },
  {
   "cell_type": "code",
   "execution_count": null,
   "id": "6c6da95f",
   "metadata": {},
   "outputs": [],
   "source": [
    "import numpy as np\n",
    "from matplotlib import pyplot as plt\n",
    "import iterative_ensemble_smoother as ies\n",
    "\n",
    "\n",
    "def iterative_smoother():\n",
    "    A_current = np.copy(A)\n",
    "    iterations = 4\n",
    "    smoother = ies.IterativeEnsembleSmoother(realizations)\n",
    "\n",
    "    for i in range(iterations):\n",
    "        plot_result(A_current, response_x_axis, uniform, priors, True)\n",
    "\n",
    "        responses_before = forward_model(A_current, priors, response_x_axis)\n",
    "        S = responses_before[observation_x_axis]\n",
    "\n",
    "        A_current = smoother.update_step(\n",
    "            S, A_current, observation_errors, observation_values\n",
    "        )\n",
    "    plot_result(A_current, response_x_axis, uniform, priors, True)\n",
    "\n",
    "\n",
    "iterative_smoother()"
   ]
  }
 ],
 "metadata": {
  "jupytext": {
   "formats": "ipynb,py:percent"
  },
  "kernelspec": {
   "display_name": "Python 3 (ipykernel)",
   "language": "python",
   "name": "python3"
  },
  "language_info": {
   "codemirror_mode": {
    "name": "ipython",
    "version": 3
   },
   "file_extension": ".py",
   "mimetype": "text/x-python",
   "name": "python",
   "nbconvert_exporter": "python",
   "pygments_lexer": "ipython3",
   "version": "3.8.9"
  }
 },
 "nbformat": 4,
 "nbformat_minor": 5
}
