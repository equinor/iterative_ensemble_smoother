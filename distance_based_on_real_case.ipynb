{
 "cells": [
  {
   "cell_type": "markdown",
   "id": "825b4a89-0c98-4b14-8d3f-f7c530d75f97",
   "metadata": {},
   "source": [
    "# Test Distance Based Localization on real cases"
   ]
  },
  {
   "cell_type": "code",
   "execution_count": 1,
   "id": "eec386fc-c9f9-4de5-ba3d-d5aafaaddcd4",
   "metadata": {},
   "outputs": [],
   "source": [
    "import numpy as np\n",
    "import polars as pl\n",
    "import matplotlib.pyplot as plt\n",
    "\n",
    "from iterative_ensemble_smoother.experimental import DistanceESMDA\n",
    "from iterative_ensemble_smoother.esmda import ESMDA\n",
    "\n",
    "from ert.storage import open_storage\n",
    "\n",
    "SEED = 42"
   ]
  },
  {
   "cell_type": "markdown",
   "id": "0dab770e-fb74-4747-b12e-4e5d01f73771",
   "metadata": {},
   "source": [
    "## List all available experiments in storage"
   ]
  },
  {
   "cell_type": "code",
   "execution_count": 2,
   "id": "d650aa8a-12eb-4707-bcf8-23817571bed3",
   "metadata": {},
   "outputs": [
    {
     "name": "stdout",
     "output_type": "stream",
     "text": [
      "Experiment names: ensemble_smoother\n"
     ]
    }
   ],
   "source": [
    "storage_path = \"01_drogon_ahm/storage/\"\n",
    "storage_path = \"/Users/FCUR/git/ert/test-data/ert/heat_equation/storage\"\n",
    "with open_storage(storage_path) as storage:\n",
    "    [print(f\"Experiment names: {x.name}\") for x in storage.experiments]"
   ]
  },
  {
   "cell_type": "markdown",
   "id": "1640f299-68f6-40db-9830-f8492f1acb3d",
   "metadata": {},
   "source": [
    "## Pick which experiment to analyse"
   ]
  },
  {
   "cell_type": "code",
   "execution_count": 3,
   "id": "713a8011-e2ef-4a55-8e74-28833c98bbd5",
   "metadata": {},
   "outputs": [],
   "source": [
    "experiment_name = \"ensemble_smoother\""
   ]
  },
  {
   "cell_type": "markdown",
   "id": "5229d5a4-c169-4465-8116-9b5a14107fca",
   "metadata": {},
   "source": [
    "## Load observations and responses from storage. Remove responses with zero standard deviation"
   ]
  },
  {
   "cell_type": "code",
   "execution_count": 4,
   "id": "1ddf97bc-155d-4308-968c-7eb95f933039",
   "metadata": {},
   "outputs": [],
   "source": [
    "with open_storage(storage_path, \"r\") as storage:\n",
    "    ensemble = storage.get_experiment_by_name(experiment_name).get_ensemble_by_name(\"default_0\")\n",
    "    ensemble_size = ensemble.ensemble_size\n",
    "    selected_obs = ensemble.experiment.observation_keys\n",
    "    iens_active_index = np.array(ensemble.get_realization_list_with_responses())\n",
    "    observations_and_responses = ensemble.get_observations_and_responses(\n",
    "        selected_obs,\n",
    "        iens_active_index\n",
    "    )\n",
    "\n",
    "response_cols = [str(i) for i in range(1, ensemble.ensemble_size)]\n",
    "df_filtered = observations_and_responses.filter(\n",
    "    pl.concat_list([pl.col(col) for col in response_cols])\n",
    "    .list.eval(pl.element().std())\n",
    "    .list.first() > 0\n",
    ")"
   ]
  },
  {
   "cell_type": "code",
   "execution_count": 5,
   "id": "5b702b73-ddb2-4186-842e-f7ac8a508d83",
   "metadata": {},
   "outputs": [
    {
     "data": {
      "text/html": [
       "<div><style>\n",
       ".dataframe > thead > tr,\n",
       ".dataframe > tbody > tr {\n",
       "  text-align: right;\n",
       "  white-space: pre-wrap;\n",
       "}\n",
       "</style>\n",
       "<small>shape: (48, 105)</small><table border=\"1\" class=\"dataframe\"><thead><tr><th>response_key</th><th>index</th><th>observation_key</th><th>observations</th><th>std</th><th>0</th><th>1</th><th>2</th><th>3</th><th>4</th><th>5</th><th>6</th><th>7</th><th>8</th><th>9</th><th>10</th><th>11</th><th>12</th><th>13</th><th>14</th><th>15</th><th>16</th><th>17</th><th>18</th><th>19</th><th>20</th><th>21</th><th>22</th><th>23</th><th>24</th><th>25</th><th>26</th><th>27</th><th>28</th><th>29</th><th>30</th><th>31</th><th>&hellip;</th><th>63</th><th>64</th><th>65</th><th>66</th><th>67</th><th>68</th><th>69</th><th>70</th><th>71</th><th>72</th><th>73</th><th>74</th><th>75</th><th>76</th><th>77</th><th>78</th><th>79</th><th>80</th><th>81</th><th>82</th><th>83</th><th>84</th><th>85</th><th>86</th><th>87</th><th>88</th><th>89</th><th>90</th><th>91</th><th>92</th><th>93</th><th>94</th><th>95</th><th>96</th><th>97</th><th>98</th><th>99</th></tr><tr><td>str</td><td>str</td><td>str</td><td>f32</td><td>f32</td><td>f32</td><td>f32</td><td>f32</td><td>f32</td><td>f32</td><td>f32</td><td>f32</td><td>f32</td><td>f32</td><td>f32</td><td>f32</td><td>f32</td><td>f32</td><td>f32</td><td>f32</td><td>f32</td><td>f32</td><td>f32</td><td>f32</td><td>f32</td><td>f32</td><td>f32</td><td>f32</td><td>f32</td><td>f32</td><td>f32</td><td>f32</td><td>f32</td><td>f32</td><td>f32</td><td>f32</td><td>f32</td><td>&hellip;</td><td>f32</td><td>f32</td><td>f32</td><td>f32</td><td>f32</td><td>f32</td><td>f32</td><td>f32</td><td>f32</td><td>f32</td><td>f32</td><td>f32</td><td>f32</td><td>f32</td><td>f32</td><td>f32</td><td>f32</td><td>f32</td><td>f32</td><td>f32</td><td>f32</td><td>f32</td><td>f32</td><td>f32</td><td>f32</td><td>f32</td><td>f32</td><td>f32</td><td>f32</td><td>f32</td><td>f32</td><td>f32</td><td>f32</td><td>f32</td><td>f32</td><td>f32</td><td>f32</td></tr></thead><tbody><tr><td>&quot;MY_RESPONSE&quot;</td><td>&quot;10, 0&quot;</td><td>&quot;MY_OBS_10&quot;</td><td>0.000006</td><td>3.0797e-7</td><td>0.001738</td><td>0.014287</td><td>0.010067</td><td>0.000116</td><td>0.010186</td><td>0.000495</td><td>0.000006</td><td>0.00013</td><td>0.00004</td><td>0.000075</td><td>0.000006</td><td>0.000238</td><td>0.007534</td><td>0.414858</td><td>0.001904</td><td>0.032358</td><td>0.012611</td><td>0.002779</td><td>0.000424</td><td>3.1249e-7</td><td>3.5690e-7</td><td>0.019226</td><td>0.087599</td><td>0.003879</td><td>0.001009</td><td>0.104038</td><td>0.066789</td><td>0.058016</td><td>0.000435</td><td>0.000002</td><td>0.000482</td><td>0.000004</td><td>&hellip;</td><td>0.000055</td><td>0.000011</td><td>0.067731</td><td>0.014178</td><td>1.0160e-7</td><td>0.001602</td><td>0.024197</td><td>0.294349</td><td>0.107269</td><td>0.000193</td><td>0.125961</td><td>0.002986</td><td>0.003577</td><td>0.120661</td><td>0.001675</td><td>0.014344</td><td>0.033997</td><td>0.034318</td><td>0.000002</td><td>0.205756</td><td>0.086221</td><td>0.001245</td><td>0.014565</td><td>0.005082</td><td>0.001403</td><td>0.0041</td><td>0.000354</td><td>0.00004</td><td>0.004931</td><td>0.110773</td><td>0.011225</td><td>0.004557</td><td>0.000046</td><td>0.000043</td><td>0.003056</td><td>0.200218</td><td>0.320688</td></tr><tr><td>&quot;MY_RESPONSE&quot;</td><td>&quot;10, 1&quot;</td><td>&quot;MY_OBS_10&quot;</td><td>0.414103</td><td>0.020195</td><td>3.791496</td><td>2.388445</td><td>0.871504</td><td>0.421969</td><td>1.882233</td><td>0.688758</td><td>0.596691</td><td>0.484872</td><td>1.336216</td><td>0.467743</td><td>1.080632</td><td>0.095577</td><td>2.051911</td><td>6.71</td><td>2.545115</td><td>3.15389</td><td>5.585956</td><td>1.893609</td><td>1.815404</td><td>0.012714</td><td>0.021675</td><td>0.709378</td><td>1.35977</td><td>5.175879</td><td>0.934265</td><td>4.687365</td><td>3.836681</td><td>3.277311</td><td>2.970897</td><td>0.545605</td><td>3.226886</td><td>0.026443</td><td>&hellip;</td><td>1.800958</td><td>3.077124</td><td>3.419479</td><td>3.460029</td><td>0.000833</td><td>0.684022</td><td>4.070356</td><td>7.657216</td><td>4.840562</td><td>0.622302</td><td>5.500516</td><td>0.131315</td><td>2.700433</td><td>3.29128</td><td>0.908311</td><td>1.06721</td><td>2.129442</td><td>1.192377</td><td>0.055188</td><td>2.285549</td><td>6.764185</td><td>2.664846</td><td>1.17452</td><td>0.525426</td><td>0.82779</td><td>0.413551</td><td>0.460627</td><td>0.563554</td><td>2.323675</td><td>2.938879</td><td>1.765402</td><td>1.117418</td><td>0.090555</td><td>0.300184</td><td>1.939161</td><td>7.560426</td><td>4.939108</td></tr><tr><td>&quot;MY_RESPONSE&quot;</td><td>&quot;10, 2&quot;</td><td>&quot;MY_OBS_10&quot;</td><td>3.667965</td><td>0.164823</td><td>3.459801</td><td>3.073539</td><td>0.63332</td><td>0.351097</td><td>3.379199</td><td>1.405518</td><td>0.365358</td><td>0.505973</td><td>1.165848</td><td>0.221864</td><td>0.482993</td><td>0.72843</td><td>2.620817</td><td>5.616586</td><td>1.318776</td><td>2.70711</td><td>4.190064</td><td>4.777524</td><td>0.964936</td><td>0.076197</td><td>0.18081</td><td>0.724264</td><td>1.39071</td><td>1.719255</td><td>0.274612</td><td>4.245439</td><td>4.200376</td><td>3.433375</td><td>2.375463</td><td>0.373046</td><td>1.654375</td><td>0.025409</td><td>&hellip;</td><td>0.272113</td><td>0.697785</td><td>2.857745</td><td>5.870055</td><td>0.00109</td><td>0.390619</td><td>1.522539</td><td>5.38056</td><td>2.262373</td><td>0.511656</td><td>6.197315</td><td>0.170156</td><td>1.007394</td><td>7.109563</td><td>3.51579</td><td>1.102713</td><td>3.551681</td><td>1.829301</td><td>0.048453</td><td>2.283837</td><td>2.484502</td><td>2.41698</td><td>1.283918</td><td>0.999563</td><td>1.358481</td><td>0.400599</td><td>0.681584</td><td>0.461609</td><td>0.935628</td><td>3.731048</td><td>3.367921</td><td>1.654116</td><td>2.325458</td><td>0.021296</td><td>2.648818</td><td>4.782776</td><td>9.928008</td></tr><tr><td>&quot;MY_RESPONSE&quot;</td><td>&quot;10, 3&quot;</td><td>&quot;MY_OBS_10&quot;</td><td>16.24826</td><td>0.771199</td><td>9.105598</td><td>10.113826</td><td>1.697024</td><td>2.234903</td><td>6.417114</td><td>9.410075</td><td>5.60522</td><td>1.194318</td><td>2.799078</td><td>2.819279</td><td>8.68576</td><td>1.591312</td><td>4.975577</td><td>9.250033</td><td>9.135738</td><td>4.847055</td><td>17.797073</td><td>11.836971</td><td>3.636055</td><td>0.428058</td><td>0.789039</td><td>1.384356</td><td>2.93277</td><td>11.879325</td><td>5.413805</td><td>8.007386</td><td>6.607326</td><td>5.913062</td><td>7.022437</td><td>2.710939</td><td>8.193822</td><td>0.190387</td><td>&hellip;</td><td>7.8991</td><td>7.602262</td><td>7.835516</td><td>16.834829</td><td>0.009983</td><td>2.993222</td><td>12.854205</td><td>13.987189</td><td>9.731277</td><td>4.420914</td><td>10.47187</td><td>0.330226</td><td>10.618836</td><td>13.554911</td><td>6.804796</td><td>3.099226</td><td>7.294907</td><td>2.113304</td><td>0.568262</td><td>3.683238</td><td>13.128551</td><td>9.726973</td><td>2.339626</td><td>2.438686</td><td>4.169963</td><td>0.826034</td><td>2.224852</td><td>2.914973</td><td>9.462966</td><td>6.189559</td><td>9.785872</td><td>4.293647</td><td>5.162063</td><td>1.773264</td><td>10.759433</td><td>12.389246</td><td>6.986765</td></tr><tr><td>&quot;MY_RESPONSE&quot;</td><td>&quot;10, 4&quot;</td><td>&quot;MY_OBS_10&quot;</td><td>1.763592</td><td>0.087033</td><td>0.098292</td><td>0.226188</td><td>0.012185</td><td>0.012469</td><td>1.291371</td><td>0.057598</td><td>0.000581</td><td>0.079196</td><td>0.368591</td><td>0.021552</td><td>0.007176</td><td>0.215759</td><td>0.948216</td><td>0.276918</td><td>0.001738</td><td>0.498807</td><td>0.987291</td><td>0.710998</td><td>0.001275</td><td>0.00513</td><td>0.002119</td><td>0.215035</td><td>0.126447</td><td>0.001894</td><td>0.000455</td><td>0.499554</td><td>1.789316</td><td>0.660236</td><td>0.78219</td><td>0.004964</td><td>0.162437</td><td>0.003221</td><td>&hellip;</td><td>0.000206</td><td>0.004396</td><td>0.381662</td><td>1.142425</td><td>0.00008</td><td>0.001898</td><td>0.042659</td><td>0.684418</td><td>0.133594</td><td>0.00943</td><td>2.012809</td><td>0.009139</td><td>0.040463</td><td>0.705422</td><td>1.194282</td><td>0.022661</td><td>0.907232</td><td>0.225637</td><td>0.018058</td><td>0.276068</td><td>0.02506</td><td>0.460875</td><td>0.192472</td><td>0.040766</td><td>0.157398</td><td>0.031884</td><td>0.1874</td><td>0.132994</td><td>0.019102</td><td>1.336195</td><td>0.304648</td><td>0.601241</td><td>0.503272</td><td>0.000016</td><td>0.248767</td><td>0.544208</td><td>1.628358</td></tr><tr><td>&hellip;</td><td>&hellip;</td><td>&hellip;</td><td>&hellip;</td><td>&hellip;</td><td>&hellip;</td><td>&hellip;</td><td>&hellip;</td><td>&hellip;</td><td>&hellip;</td><td>&hellip;</td><td>&hellip;</td><td>&hellip;</td><td>&hellip;</td><td>&hellip;</td><td>&hellip;</td><td>&hellip;</td><td>&hellip;</td><td>&hellip;</td><td>&hellip;</td><td>&hellip;</td><td>&hellip;</td><td>&hellip;</td><td>&hellip;</td><td>&hellip;</td><td>&hellip;</td><td>&hellip;</td><td>&hellip;</td><td>&hellip;</td><td>&hellip;</td><td>&hellip;</td><td>&hellip;</td><td>&hellip;</td><td>&hellip;</td><td>&hellip;</td><td>&hellip;</td><td>&hellip;</td><td>&hellip;</td><td>&hellip;</td><td>&hellip;</td><td>&hellip;</td><td>&hellip;</td><td>&hellip;</td><td>&hellip;</td><td>&hellip;</td><td>&hellip;</td><td>&hellip;</td><td>&hellip;</td><td>&hellip;</td><td>&hellip;</td><td>&hellip;</td><td>&hellip;</td><td>&hellip;</td><td>&hellip;</td><td>&hellip;</td><td>&hellip;</td><td>&hellip;</td><td>&hellip;</td><td>&hellip;</td><td>&hellip;</td><td>&hellip;</td><td>&hellip;</td><td>&hellip;</td><td>&hellip;</td><td>&hellip;</td><td>&hellip;</td><td>&hellip;</td><td>&hellip;</td><td>&hellip;</td><td>&hellip;</td><td>&hellip;</td><td>&hellip;</td><td>&hellip;</td><td>&hellip;</td><td>&hellip;</td></tr><tr><td>&quot;MY_RESPONSE&quot;</td><td>&quot;71, 1&quot;</td><td>&quot;MY_OBS_71&quot;</td><td>3.409951</td><td>0.162367</td><td>1.22191</td><td>3.226357</td><td>0.555654</td><td>1.207163</td><td>2.096373</td><td>2.073181</td><td>6.455891</td><td>0.150191</td><td>0.310598</td><td>1.444097</td><td>5.248354</td><td>0.583404</td><td>0.699894</td><td>2.142867</td><td>4.750465</td><td>0.316452</td><td>4.61971</td><td>5.599718</td><td>9.662037</td><td>0.129807</td><td>0.831665</td><td>0.156387</td><td>0.712116</td><td>1.785407</td><td>4.689696</td><td>0.681478</td><td>0.554871</td><td>0.525435</td><td>0.740417</td><td>0.381485</td><td>1.478115</td><td>0.037352</td><td>&hellip;</td><td>1.701516</td><td>1.119188</td><td>1.284238</td><td>3.737293</td><td>0.004011</td><td>1.258829</td><td>3.629905</td><td>1.505237</td><td>1.428383</td><td>1.058877</td><td>1.320428</td><td>0.044941</td><td>2.104747</td><td>6.653716</td><td>1.13092</td><td>1.274661</td><td>1.297138</td><td>0.89184</td><td>0.279374</td><td>0.2877</td><td>1.912107</td><td>1.744131</td><td>0.259169</td><td>1.381632</td><td>1.27784</td><td>0.147854</td><td>0.585664</td><td>0.609434</td><td>8.524052</td><td>0.592941</td><td>4.268422</td><td>0.779229</td><td>1.918588</td><td>0.910932</td><td>2.003184</td><td>1.059893</td><td>7.911661</td></tr><tr><td>&quot;MY_RESPONSE&quot;</td><td>&quot;71, 2&quot;</td><td>&quot;MY_OBS_71&quot;</td><td>4.751474</td><td>0.235669</td><td>1.381219</td><td>3.137414</td><td>0.602457</td><td>1.224018</td><td>1.843506</td><td>2.287848</td><td>4.767455</td><td>0.152145</td><td>0.306592</td><td>1.288101</td><td>4.051567</td><td>0.707281</td><td>0.587808</td><td>2.319915</td><td>4.264222</td><td>0.432598</td><td>5.004292</td><td>5.916033</td><td>7.770634</td><td>0.243417</td><td>4.407042</td><td>0.148462</td><td>0.729668</td><td>1.942193</td><td>3.155792</td><td>0.807466</td><td>0.481945</td><td>0.476683</td><td>0.789383</td><td>0.4301</td><td>1.662786</td><td>0.035497</td><td>&hellip;</td><td>1.384152</td><td>1.355584</td><td>1.423067</td><td>3.349942</td><td>0.003889</td><td>1.162621</td><td>3.707385</td><td>1.981291</td><td>1.917751</td><td>1.008082</td><td>1.169054</td><td>0.038749</td><td>2.236727</td><td>5.905083</td><td>0.759705</td><td>1.221972</td><td>1.123443</td><td>0.795096</td><td>0.264229</td><td>0.292942</td><td>2.628501</td><td>1.792442</td><td>0.238569</td><td>1.327518</td><td>1.200633</td><td>0.149829</td><td>0.534306</td><td>0.532562</td><td>7.109132</td><td>0.387355</td><td>4.111083</td><td>0.668735</td><td>7.667943</td><td>0.356086</td><td>2.075879</td><td>1.645485</td><td>7.601902</td></tr><tr><td>&quot;MY_RESPONSE&quot;</td><td>&quot;71, 3&quot;</td><td>&quot;MY_OBS_71&quot;</td><td>7.793058</td><td>0.365141</td><td>0.779397</td><td>3.717493</td><td>0.766317</td><td>1.793487</td><td>2.577168</td><td>2.104952</td><td>13.510022</td><td>0.079246</td><td>0.27115</td><td>2.112944</td><td>9.233647</td><td>1.070999</td><td>0.607095</td><td>3.372908</td><td>6.922584</td><td>0.273528</td><td>4.719398</td><td>8.513653</td><td>11.634783</td><td>0.400231</td><td>4.847675</td><td>0.145152</td><td>0.880575</td><td>1.758137</td><td>8.14217</td><td>0.449831</td><td>0.322831</td><td>0.33416</td><td>0.45605</td><td>0.274946</td><td>1.626212</td><td>0.026832</td><td>&hellip;</td><td>1.748436</td><td>1.181724</td><td>1.131802</td><td>3.340315</td><td>0.005996</td><td>1.64599</td><td>4.053672</td><td>1.35694</td><td>1.418351</td><td>0.988705</td><td>1.403594</td><td>0.025759</td><td>1.656227</td><td>8.635875</td><td>1.08667</td><td>1.647068</td><td>1.17498</td><td>1.326463</td><td>0.452366</td><td>0.204112</td><td>2.095122</td><td>1.291485</td><td>0.180737</td><td>1.879087</td><td>1.398312</td><td>0.169578</td><td>0.598747</td><td>0.598122</td><td>13.178629</td><td>0.38809</td><td>5.464158</td><td>0.58439</td><td>11.451884</td><td>1.373656</td><td>1.20763</td><td>0.814546</td><td>10.890644</td></tr><tr><td>&quot;MY_RESPONSE&quot;</td><td>&quot;71, 4&quot;</td><td>&quot;MY_OBS_71&quot;</td><td>2.059584</td><td>0.098258</td><td>0.851033</td><td>1.527611</td><td>0.287343</td><td>0.51573</td><td>0.745606</td><td>1.055596</td><td>0.462652</td><td>0.078964</td><td>0.136938</td><td>0.571884</td><td>1.30971</td><td>0.305446</td><td>0.251537</td><td>1.383223</td><td>0.631705</td><td>0.257288</td><td>2.187527</td><td>2.688931</td><td>0.821828</td><td>0.108373</td><td>0.813042</td><td>0.06783</td><td>0.39651</td><td>0.326617</td><td>0.326204</td><td>0.533576</td><td>0.195796</td><td>0.295482</td><td>0.335416</td><td>0.192936</td><td>0.799373</td><td>0.015571</td><td>&hellip;</td><td>0.115755</td><td>0.453177</td><td>0.720207</td><td>1.499855</td><td>0.001679</td><td>0.293869</td><td>1.427488</td><td>1.084047</td><td>0.975012</td><td>0.369871</td><td>0.549957</td><td>0.025992</td><td>0.963649</td><td>2.852278</td><td>0.320221</td><td>0.53362</td><td>0.559957</td><td>0.421994</td><td>0.121804</td><td>0.239504</td><td>1.184136</td><td>0.794913</td><td>0.144843</td><td>0.62492</td><td>0.573951</td><td>0.08703</td><td>0.222365</td><td>0.220381</td><td>2.319804</td><td>0.176832</td><td>1.89862</td><td>0.267183</td><td>3.575054</td><td>0.020425</td><td>1.011708</td><td>0.941919</td><td>3.545513</td></tr><tr><td>&quot;MY_RESPONSE&quot;</td><td>&quot;71, 5&quot;</td><td>&quot;MY_OBS_71&quot;</td><td>4.514817</td><td>0.241689</td><td>1.213011</td><td>3.501333</td><td>0.897065</td><td>1.866462</td><td>1.885716</td><td>2.884161</td><td>9.151935</td><td>0.085008</td><td>0.199507</td><td>1.994786</td><td>9.264543</td><td>0.842115</td><td>0.576507</td><td>3.158132</td><td>6.388584</td><td>0.259524</td><td>5.621599</td><td>6.631263</td><td>13.775553</td><td>0.403264</td><td>7.696824</td><td>0.107725</td><td>1.095592</td><td>2.252231</td><td>8.007159</td><td>0.586919</td><td>0.310984</td><td>0.286845</td><td>0.411318</td><td>0.448386</td><td>1.73707</td><td>0.024441</td><td>&hellip;</td><td>2.590987</td><td>2.131462</td><td>1.324237</td><td>2.874112</td><td>0.005262</td><td>1.716674</td><td>3.44223</td><td>1.479397</td><td>1.626005</td><td>0.900915</td><td>1.397006</td><td>0.025462</td><td>1.922817</td><td>7.42883</td><td>0.608959</td><td>1.590766</td><td>1.636944</td><td>1.209303</td><td>0.386177</td><td>0.271186</td><td>3.468722</td><td>1.29236</td><td>0.162799</td><td>1.714056</td><td>1.343892</td><td>0.149219</td><td>0.463005</td><td>0.391708</td><td>12.449153</td><td>0.281798</td><td>4.107985</td><td>0.51657</td><td>12.05291</td><td>1.302493</td><td>1.401513</td><td>1.062794</td><td>11.656236</td></tr></tbody></table></div>"
      ],
      "text/plain": [
       "shape: (48, 105)\n",
       "┌─────────────┬───────┬────────────┬────────────┬───┬──────────┬───────────┬───────────┬───────────┐\n",
       "│ response_ke ┆ index ┆ observatio ┆ observatio ┆ … ┆ 96       ┆ 97        ┆ 98        ┆ 99        │\n",
       "│ y           ┆ ---   ┆ n_key      ┆ ns         ┆   ┆ ---      ┆ ---       ┆ ---       ┆ ---       │\n",
       "│ ---         ┆ str   ┆ ---        ┆ ---        ┆   ┆ f32      ┆ f32       ┆ f32       ┆ f32       │\n",
       "│ str         ┆       ┆ str        ┆ f32        ┆   ┆          ┆           ┆           ┆           │\n",
       "╞═════════════╪═══════╪════════════╪════════════╪═══╪══════════╪═══════════╪═══════════╪═══════════╡\n",
       "│ MY_RESPONSE ┆ 10, 0 ┆ MY_OBS_10  ┆ 0.000006   ┆ … ┆ 0.000043 ┆ 0.003056  ┆ 0.200218  ┆ 0.320688  │\n",
       "│ MY_RESPONSE ┆ 10, 1 ┆ MY_OBS_10  ┆ 0.414103   ┆ … ┆ 0.300184 ┆ 1.939161  ┆ 7.560426  ┆ 4.939108  │\n",
       "│ MY_RESPONSE ┆ 10, 2 ┆ MY_OBS_10  ┆ 3.667965   ┆ … ┆ 0.021296 ┆ 2.648818  ┆ 4.782776  ┆ 9.928008  │\n",
       "│ MY_RESPONSE ┆ 10, 3 ┆ MY_OBS_10  ┆ 16.24826   ┆ … ┆ 1.773264 ┆ 10.759433 ┆ 12.389246 ┆ 6.986765  │\n",
       "│ MY_RESPONSE ┆ 10, 4 ┆ MY_OBS_10  ┆ 1.763592   ┆ … ┆ 0.000016 ┆ 0.248767  ┆ 0.544208  ┆ 1.628358  │\n",
       "│ …           ┆ …     ┆ …          ┆ …          ┆ … ┆ …        ┆ …         ┆ …         ┆ …         │\n",
       "│ MY_RESPONSE ┆ 71, 1 ┆ MY_OBS_71  ┆ 3.409951   ┆ … ┆ 0.910932 ┆ 2.003184  ┆ 1.059893  ┆ 7.911661  │\n",
       "│ MY_RESPONSE ┆ 71, 2 ┆ MY_OBS_71  ┆ 4.751474   ┆ … ┆ 0.356086 ┆ 2.075879  ┆ 1.645485  ┆ 7.601902  │\n",
       "│ MY_RESPONSE ┆ 71, 3 ┆ MY_OBS_71  ┆ 7.793058   ┆ … ┆ 1.373656 ┆ 1.20763   ┆ 0.814546  ┆ 10.890644 │\n",
       "│ MY_RESPONSE ┆ 71, 4 ┆ MY_OBS_71  ┆ 2.059584   ┆ … ┆ 0.020425 ┆ 1.011708  ┆ 0.941919  ┆ 3.545513  │\n",
       "│ MY_RESPONSE ┆ 71, 5 ┆ MY_OBS_71  ┆ 4.514817   ┆ … ┆ 1.302493 ┆ 1.401513  ┆ 1.062794  ┆ 11.656236 │\n",
       "└─────────────┴───────┴────────────┴────────────┴───┴──────────┴───────────┴───────────┴───────────┘"
      ]
     },
     "execution_count": 5,
     "metadata": {},
     "output_type": "execute_result"
    }
   ],
   "source": [
    "df_filtered"
   ]
  },
  {
   "cell_type": "markdown",
   "id": "066ab3ea-694d-48a7-913c-83343e857cb8",
   "metadata": {},
   "source": [
    "# Load parameters from storage"
   ]
  },
  {
   "cell_type": "code",
   "execution_count": 16,
   "id": "98bb9966-f4f3-48ce-92e2-bcc5da0b0801",
   "metadata": {},
   "outputs": [],
   "source": [
    "with open_storage(storage_path, \"r\") as storage:\n",
    "    experiment = storage.get_experiment_by_name(experiment_name)\n",
    "    ensemble = experiment.get_ensemble_by_name(\"default_0\")\n",
    "    groups = list(experiment.parameter_configuration.keys())\n",
    "\n",
    "    #for group in groups:\n",
    "    #    print(ensemble.load_parameters_numpy(group, [0, 1]))\n",
    "\n",
    "    realizations = ensemble.get_realization_list_with_responses()\n",
    "    cond = ensemble.load_parameters_numpy(\"COND\", realizations)"
   ]
  },
  {
   "cell_type": "markdown",
   "id": "fcc9d6c2-1f39-4883-9ed8-537a9231c5a5",
   "metadata": {},
   "source": [
    "## Prepare response matrix"
   ]
  },
  {
   "cell_type": "code",
   "execution_count": 17,
   "id": "4e30b3e9-61e5-4843-858a-ddd3b44bc340",
   "metadata": {},
   "outputs": [],
   "source": [
    "Y = df_filtered.select(pl.all().exclude([\"response_key\", \"index\", \"observation_key\", \"observations\", \"std\"])).to_numpy()"
   ]
  },
  {
   "cell_type": "markdown",
   "id": "17ed793b-9f60-478c-8272-9f89c2480312",
   "metadata": {},
   "source": [
    "## Ensemble Smoother without Localization"
   ]
  },
  {
   "cell_type": "code",
   "execution_count": 10,
   "id": "d14e52db-7334-4f6f-8ddc-ef1f34dd9813",
   "metadata": {},
   "outputs": [],
   "source": [
    "X = cond\n",
    "\n",
    "assert Y.shape[1] == X.shape[1]\n",
    "\n",
    "observations = df_filtered[\"observations\"].to_numpy()\n",
    "C_D = np.diag(df_filtered[\"std\"])\n",
    "\n",
    "smoother_ESMDA = ESMDA(\n",
    "    covariance=C_D,\n",
    "    observations=observations,\n",
    "    alpha=1,\n",
    "    seed=SEED)\n",
    "\n",
    "D = smoother_ESMDA.perturb_observations(\n",
    "    ensemble_size=ensemble_size, alpha=1\n",
    ")\n",
    "\n",
    "X_posterior_ESMDA = smoother_ESMDA.assimilate(X=X, Y=Y)"
   ]
  },
  {
   "cell_type": "markdown",
   "id": "23546e37-bdbc-4367-88c6-d161b5b73f09",
   "metadata": {},
   "source": [
    "## Ensemble Smoother with Distance Based Localization"
   ]
  },
  {
   "cell_type": "code",
   "execution_count": 14,
   "id": "98bb9185-2bcc-44ca-bb4c-0905c813f066",
   "metadata": {},
   "outputs": [],
   "source": [
    "smoother = DistanceESMDA(\n",
    "    covariance=C_D,\n",
    "    observations=observations,\n",
    "    alpha=1,\n",
    "    seed=SEED\n",
    ")\n",
    "\n",
    "rho = np.ones(shape=(X.shape[0], Y.shape[0]))\n",
    "\n",
    "X_posterior = smoother.assimilate(X=X, Y=Y, rho=rho)"
   ]
  },
  {
   "cell_type": "code",
   "execution_count": null,
   "id": "02ede14e-a69c-4807-a111-6c981566c647",
   "metadata": {},
   "outputs": [],
   "source": []
  }
 ],
 "metadata": {
  "kernelspec": {
   "display_name": "Python 3 (ipykernel)",
   "language": "python",
   "name": "python3"
  },
  "language_info": {
   "codemirror_mode": {
    "name": "ipython",
    "version": 3
   },
   "file_extension": ".py",
   "mimetype": "text/x-python",
   "name": "python",
   "nbconvert_exporter": "python",
   "pygments_lexer": "ipython3",
   "version": "3.12.11"
  }
 },
 "nbformat": 4,
 "nbformat_minor": 5
}
